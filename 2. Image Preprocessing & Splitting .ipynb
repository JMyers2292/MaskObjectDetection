{
 "cells": [
  {
   "cell_type": "markdown",
   "metadata": {},
   "source": [
    "# 1. Import Dependencies"
   ]
  },
  {
   "cell_type": "code",
   "execution_count": null,
   "metadata": {},
   "outputs": [],
   "source": [
    "!pip install opencv-python"
   ]
  },
  {
   "cell_type": "code",
   "execution_count": null,
   "metadata": {},
   "outputs": [],
   "source": [
    "# Import opencv\n",
    "import cv2\n",
    "\n",
    "# Import uuid\n",
    "import uuid\n",
    "\n",
    "# Import Operating System\n",
    "import os\n",
    "\n",
    "# Import time\n",
    "import time\n",
    "\n",
    "#Import Numpy\n",
    "import numpy as np\n",
    "\n",
    "import shutil"
   ]
  },
  {
   "cell_type": "markdown",
   "metadata": {},
   "source": [
    "# 2. Define Images to Collect"
   ]
  },
  {
   "cell_type": "code",
   "execution_count": null,
   "metadata": {},
   "outputs": [],
   "source": [
    "labels = ['Bride', 'Groom']\n",
    "#number_imgs = 5"
   ]
  },
  {
   "cell_type": "markdown",
   "metadata": {},
   "source": [
    "# 3. Setup Folders "
   ]
  },
  {
   "cell_type": "code",
   "execution_count": null,
   "metadata": {},
   "outputs": [],
   "source": [
    "#PATHS\n",
    "FOLDER_PATH = os.path.join('Tensorflow', 'workspace', 'images','collectedimages')\n",
    "BRIDE_FOLDER_PATH = os.path.join('Tensorflow', 'workspace', 'images','collectedimages', 'Bride')\n",
    "GROOM_FOLDER_PATH = os.path.join('Tensorflow', 'workspace', 'images','collectedimages', 'Groom')\n",
    "ALL_IMAGES_PATH = os.path.join('Tensorflow', 'workspace', 'images', 'collectedimages', 'All_Images')"
   ]
  },
  {
   "cell_type": "code",
   "execution_count": null,
   "metadata": {},
   "outputs": [],
   "source": [
    "if not os.path.exists(FOLDER_PATH):\n",
    "    if os.name == 'posix':\n",
    "        !mkdir -p {FOLDER_PATH}\n",
    "    if os.name == 'nt':\n",
    "         !mkdir {FOLDER_PATH}\n",
    "for label in labels:\n",
    "    path = os.path.join(FOLDER_PATH, label)\n",
    "    if not os.path.exists(path):\n",
    "        !mkdir {path}"
   ]
  },
  {
   "cell_type": "code",
   "execution_count": null,
   "metadata": {},
   "outputs": [],
   "source": [
    "#Create a New Folder To Copy All Images Into \n",
    "if os.name == 'nt':\n",
    "    path = os.path.join(FOLDER_PATH, 'ALL_Images')\n",
    "    if not os.path.exists(path):\n",
    "        !mkdir {path} "
   ]
  },
  {
   "cell_type": "markdown",
   "metadata": {},
   "source": [
    "# 4. Already Have Images "
   ]
  },
  {
   "cell_type": "code",
   "execution_count": null,
   "metadata": {},
   "outputs": [],
   "source": [
    "#Rename all the Bride Images to Bride.UNIQ_ID.jpg\n",
    "BRIDE_FOLDER_PATH = os.path.join('Tensorflow', 'workspace', 'images','collectedimages', 'Bride')\n",
    "\n",
    "for filename in os.listdir(BRIDE_FOLDER_PATH):\n",
    "    os.rename(BRIDE_FOLDER_PATH + '\\\\'+ filename, BRIDE_FOLDER_PATH +'\\\\' + 'Bride.' + str(uuid.uuid1()) + '.jpg')\n",
    "    "
   ]
  },
  {
   "cell_type": "code",
   "execution_count": null,
   "metadata": {},
   "outputs": [],
   "source": [
    "#Rename all the Groom Images to Groom.UNIQ_ID.jpg\n",
    "GROOM_FOLDER_PATH = os.path.join('Tensorflow', 'workspace', 'images','collectedimages', 'Groom')\n",
    "\n",
    "for filename in os.listdir(GROOM_FOLDER_PATH):\n",
    "    os.rename(GROOM_FOLDER_PATH + '\\\\'+ filename, GROOM_FOLDER_PATH +'\\\\' + 'Groom.' + str(uuid.uuid1()) + '.jpg')\n",
    "    "
   ]
  },
  {
   "cell_type": "markdown",
   "metadata": {},
   "source": [
    "# 4. Capture Images"
   ]
  },
  {
   "cell_type": "code",
   "execution_count": null,
   "metadata": {},
   "outputs": [],
   "source": [
    "for label in labels:\n",
    "    cap = cv2.VideoCapture(0)\n",
    "    print('Collecting images for {}'.format(label))\n",
    "    time.sleep(5)\n",
    "    for imgnum in range(number_imgs):\n",
    "        print('Collecting image {}'.format(imgnum))\n",
    "        ret, frame = cap.read()\n",
    "        imgname = os.path.join(IMAGES_PATH,label,label+'.'+'{}.jpg'.format(str(uuid.uuid1())))\n",
    "        cv2.imwrite(imgname, frame)\n",
    "        cv2.imshow('frame', frame)\n",
    "        time.sleep(2)\n",
    "\n",
    "        if cv2.waitKey(1) & 0xFF == ord('q'):\n",
    "            break\n",
    "cap.release()\n",
    "cv2.destroyAllWindows()"
   ]
  },
  {
   "cell_type": "markdown",
   "metadata": {},
   "source": [
    "# 5. Splitting Images Into Ttraiing & Testing"
   ]
  },
  {
   "cell_type": "code",
   "execution_count": null,
   "metadata": {},
   "outputs": [],
   "source": [
    "#Move All Bride Images Over To All_Iamges Folder\n",
    "src = r\"C:\\Users\\Jeremy\\Desktop\\TensorFlow\\Wedding OD\\TFODCourse\\Tensorflow\\workspace\\images\\collectedimages\\Bride\"\n",
    "dest = r\"C:\\Users\\Jeremy\\Desktop\\TensorFlow\\Wedding OD\\TFODCourse\\Tensorflow\\workspace\\images\\collectedimages\\ALL_Images\"\n",
    "files = os.listdir(src)\n",
    "os.chdir(src)\n",
    "for file in files:\n",
    "    shutil.copy(file, dest)"
   ]
  },
  {
   "cell_type": "code",
   "execution_count": null,
   "metadata": {},
   "outputs": [],
   "source": [
    "#Move All Groom Images Over To All_Iamges Folder\n",
    "src = r\"C:\\Users\\Jeremy\\Desktop\\TensorFlow\\Wedding OD\\TFODCourse\\Tensorflow\\workspace\\images\\collectedimages\\Groom\"\n",
    "dest = r\"C:\\Users\\Jeremy\\Desktop\\TensorFlow\\Wedding OD\\TFODCourse\\Tensorflow\\workspace\\images\\collectedimages\\ALL_Images\"\n",
    "files = os.listdir(src)\n",
    "os.chdir(src)\n",
    "for file in files:\n",
    "    shutil.copy(file, dest)"
   ]
  },
  {
   "cell_type": "code",
   "execution_count": null,
   "metadata": {},
   "outputs": [],
   "source": [
    "!pip install split-folders"
   ]
  },
  {
   "cell_type": "code",
   "execution_count": null,
   "metadata": {},
   "outputs": [],
   "source": [
    "myList = os.listdir(FOLDER_PATH)\n",
    "BrideList = os.listdir(BRIDE_FOLDER_PATH)\n",
    "GroomList = os.listdir(GROOM_FOLDER_PATH)\n",
    "\n",
    "numClasses = len(myList)\n",
    "numBrideIm = len(BrideList)\n",
    "numGroomIm = len(GroomList)\n",
    "images = []\n",
    "\n",
    "print(\"Number of Classes: \"+ str(numClasses))\n",
    "print(\"Number of Bride Images: \"+ str(numBrideIm))\n",
    "print(\"Number of Groom Images: \"+ str(numGroomIm))\n",
    "\n",
    "\n",
    "for file in BrideList:\n",
    "    print(file)\n",
    "    currentBrideIm = cv2.imread(file)\n",
    "    images.append(currentBrideIm)\n",
    "for file in GroomList:\n",
    "    print(f)\n",
    "    currentGroomIm = cv2.imread(file)\n",
    "    images.append(currentGroomIm)\n",
    "        \n",
    "images = np.array(myPicList)\n",
    "showIm = cv2.imshow('Bride.f2b1e034-d581-11eb-a867-a455e9816b9b.jpg')"
   ]
  },
  {
   "cell_type": "code",
   "execution_count": null,
   "metadata": {},
   "outputs": [],
   "source": [
    "import splitfolders as sf\n",
    "\n",
    "PATH = r\"C:\\Users\\Jeremy\\Desktop\\TensorFlow\\Wedding OD\\TFODCourse\\Tensorflow\\workspace\\images\\collectedimages\\ALL_Images\"\n",
    "OUTPUT_PATH = r\"C:\\Users\\Jeremy\\Desktop\\TensorFlow\\Wedding OD\\TFODCourse\\Tensorflow\\workspace\\images\\collectedimages\n",
    "\n",
    "#Split is Train: 70%, Val: 15%, Test: 15%\n",
    "sf.ratio(PATH, output=OUTPUT_PATH, seed=1337, ratio=(.7, 0.15,0.15))"
   ]
  },
  {
   "cell_type": "markdown",
   "metadata": {},
   "source": [
    "# 6. Image Labelling"
   ]
  },
  {
   "cell_type": "code",
   "execution_count": null,
   "metadata": {},
   "outputs": [],
   "source": [
    "!pip install --upgrade pyqt5 lxml"
   ]
  },
  {
   "cell_type": "code",
   "execution_count": null,
   "metadata": {},
   "outputs": [],
   "source": [
    "LABELIMG_PATH = os.path.join('Tensorflow', 'labelimg')"
   ]
  },
  {
   "cell_type": "code",
   "execution_count": null,
   "metadata": {},
   "outputs": [],
   "source": [
    "if not os.path.exists(LABELIMG_PATH):\n",
    "    !mkdir {LABELIMG_PATH}\n",
    "    !git clone https://github.com/tzutalin/labelImg {LABELIMG_PATH}"
   ]
  },
  {
   "cell_type": "code",
   "execution_count": null,
   "metadata": {},
   "outputs": [],
   "source": [
    "if os.name == 'posix':\n",
    "    !make qt5py3\n",
    "if os.name =='nt':\n",
    "    !cd {LABELIMG_PATH} && pyrcc5 -o libs/resources.py resources.qrc"
   ]
  },
  {
   "cell_type": "code",
   "execution_count": null,
   "metadata": {},
   "outputs": [],
   "source": [
    "!cd {LABELIMG_PATH} && python labelImg.py"
   ]
  },
  {
   "cell_type": "markdown",
   "metadata": {},
   "source": [
    "# 6. Move them into a Training and Testing Partition"
   ]
  },
  {
   "cell_type": "markdown",
   "metadata": {},
   "source": [
    "# OPTIONAL - 7. Compress them for Colab Training"
   ]
  },
  {
   "cell_type": "code",
   "execution_count": null,
   "metadata": {},
   "outputs": [],
   "source": [
    "TRAIN_PATH = os.path.join('Tensorflow', 'workspace', 'images', 'train')\n",
    "TEST_PATH = os.path.join('Tensorflow', 'workspace', 'images', 'test')\n",
    "ARCHIVE_PATH = os.path.join('Tensorflow', 'workspace', 'images', 'archive.tar.gz')"
   ]
  },
  {
   "cell_type": "code",
   "execution_count": null,
   "metadata": {},
   "outputs": [],
   "source": [
    "!tar -czf {ARCHIVE_PATH} {TRAIN_PATH} {TEST_PATH}"
   ]
  },
  {
   "cell_type": "code",
   "execution_count": null,
   "metadata": {},
   "outputs": [],
   "source": []
  }
 ],
 "metadata": {
  "kernelspec": {
   "display_name": "TFWedding",
   "language": "python",
   "name": "tfwedding"
  },
  "language_info": {
   "codemirror_mode": {
    "name": "ipython",
    "version": 3
   },
   "file_extension": ".py",
   "mimetype": "text/x-python",
   "name": "python",
   "nbconvert_exporter": "python",
   "pygments_lexer": "ipython3",
   "version": "3.7.3"
  }
 },
 "nbformat": 4,
 "nbformat_minor": 2
}
