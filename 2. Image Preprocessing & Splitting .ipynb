{
 "cells": [
  {
   "cell_type": "markdown",
   "metadata": {},
   "source": [
    "# 1. Import Dependencies"
   ]
  },
  {
   "cell_type": "code",
   "execution_count": 1,
   "metadata": {},
   "outputs": [
    {
     "name": "stdout",
     "output_type": "stream",
     "text": [
      "Requirement already satisfied: opencv-python in c:\\users\\jeremy\\desktop\\tensorflow\\weddingtfod\\bgtfod\\lib\\site-packages (4.5.2.54)\n",
      "Requirement already satisfied: numpy>=1.14.5 in c:\\users\\jeremy\\desktop\\tensorflow\\weddingtfod\\bgtfod\\lib\\site-packages (from opencv-python) (1.21.0)\n"
     ]
    }
   ],
   "source": [
    "!pip install opencv-python"
   ]
  },
  {
   "cell_type": "code",
   "execution_count": 21,
   "metadata": {},
   "outputs": [],
   "source": [
    "# Import opencv\n",
    "import cv2\n",
    "\n",
    "# Import uuid\n",
    "import uuid\n",
    "\n",
    "# Import Operating System\n",
    "import os\n",
    "\n",
    "# Import time\n",
    "import time\n",
    "\n",
    "#Import Numpy\n",
    "import numpy as np\n",
    "\n",
    "import shutil\n",
    "\n",
    "import random as rd"
   ]
  },
  {
   "cell_type": "markdown",
   "metadata": {},
   "source": [
    "# 2. Define Images to Collect"
   ]
  },
  {
   "cell_type": "code",
   "execution_count": 32,
   "metadata": {},
   "outputs": [],
   "source": [
    "#Specify What You Want Labelled As Well As Empty Train & Test Folders For Later\n",
    "labels = ['Bride', 'Groom']"
   ]
  },
  {
   "cell_type": "markdown",
   "metadata": {},
   "source": [
    "# 3. Setup Folders "
   ]
  },
  {
   "cell_type": "code",
   "execution_count": 33,
   "metadata": {},
   "outputs": [],
   "source": [
    "#PATHS\n",
    "FOLDER_PATH = r\"C:\\Users\\Jeremy\\Desktop\\TensorFlow\\WeddingTFOD\"\n",
    "TF_PATH = os.path.join(FOLDER_PATH,'TF','workspace','images', 'collectedimages')\n",
    "IMG_PATH = os.path.join(FOLDER_PATH, 'TF','workspace','images')\n",
    "\n",
    "folders = [\"Train\", \"Test\"]"
   ]
  },
  {
   "cell_type": "code",
   "execution_count": 39,
   "metadata": {},
   "outputs": [
    {
     "name": "stdout",
     "output_type": "stream",
     "text": [
      "C:\\Users\\Jeremy\\Desktop\\TensorFlow\\WeddingTFOD\\TF\\workspace\\images\\collectedimages\n",
      "C:\\Users\\Jeremy\\Desktop\\TensorFlow\\WeddingTFOD\\TF\\workspace\\images\n"
     ]
    }
   ],
   "source": [
    "print(TF_PATH+\"\\n\"+IMG_PATH )"
   ]
  },
  {
   "cell_type": "code",
   "execution_count": 43,
   "metadata": {},
   "outputs": [
    {
     "name": "stdout",
     "output_type": "stream",
     "text": [
      "Folder Already Created....\n",
      "Folder Already Created....\n",
      "Folder Created For Train....\n"
     ]
    },
    {
     "name": "stderr",
     "output_type": "stream",
     "text": [
      "The filename, directory name, or volume label syntax is incorrect.\n"
     ]
    },
    {
     "name": "stdout",
     "output_type": "stream",
     "text": [
      "Folder Created For Test....\n"
     ]
    },
    {
     "name": "stderr",
     "output_type": "stream",
     "text": [
      "The filename, directory name, or volume label syntax is incorrect.\n"
     ]
    }
   ],
   "source": [
    "#Create Folders for Each Label\n",
    "if not os.path.exists(TF_PATH):\n",
    "    if os.name == 'posix':\n",
    "        !mkdir -p {TF_PATH}\n",
    "    if os.name == 'nt':\n",
    "        !mkdir {TF_PATH}\n",
    "        \n",
    "#Create Folders For Custom Labels\n",
    "for label in labels:\n",
    "    path = os.path.join(TF_PATH, label)\n",
    "    if not os.path.exists(path):\n",
    "        !mkdir {path}\n",
    "        print(\"Folder Created For {}....\".format(label))\n",
    "    else:\n",
    "        print(\"Folder Already Created....\")\n",
    "\n",
    "#Create Train & Test Folders\n",
    "os.chdir(IMG_PATH)\n",
    "for folder in folders:\n",
    "    path = os.path.join(IMG_PATH, folder)\n",
    "    if not os.path.exists(path):\n",
    "        !mkdir{path}\n",
    "        print(\"Folder Created For {}....\".format(folder))\n",
    "    else:\n",
    "        print(\"Folder Already Created....\")"
   ]
  },
  {
   "cell_type": "markdown",
   "metadata": {},
   "source": [
    "# 4. Renaming Images"
   ]
  },
  {
   "cell_type": "code",
   "execution_count": null,
   "metadata": {},
   "outputs": [],
   "source": [
    "#Rename all the Bride Images to Bride.num.jpg\n",
    "DST_BRIDE_PATH = os.path.join(TF_PATH,'Bride')\n",
    "DIR = os.listdir(DST_BRIDE_PATH)\n",
    "\n",
    "for count, file_name in enumerate(DIR):\n",
    "    # print(count, file_name)\n",
    "    src = DST_BRIDE_PATH + '\\\\' + file_name\n",
    "    dst = DST_BRIDE_PATH + '\\\\' + \"Bride.\" + str(count+1) + \".jpg\"\n",
    "    os.rename(src, dst)\n",
    "    #print(\"src: {}\\tdst: {}\".format(src, dst))\n",
    "    \n",
    "print(\"Images Successfully Renamed...\")"
   ]
  },
  {
   "cell_type": "code",
   "execution_count": null,
   "metadata": {},
   "outputs": [],
   "source": [
    "#Rename all the Groom Images to Groom.num.jpg\n",
    "DST_GROOM_PATH = os.path.join(TF_PATH, 'Groom')\n",
    "DIR = os.listdir(DST_GROOM_PATH)\n",
    "\n",
    "for count, file_name in enumerate(DIR):\n",
    "    # print(count, file_name)\n",
    "    src = DST_GROOM_PATH + '\\\\' + file_name\n",
    "    dst = DST_GROOM_PATH + '\\\\' + \"Groom.\" + str(count+1) + \".jpg\"\n",
    "    os.rename(src, dst)\n",
    "    #print(\"src: {}\\tdst: {}\".format(src, dst))\n",
    "\n",
    "print(\"Images Successfully Renamed...\")"
   ]
  },
  {
   "cell_type": "code",
   "execution_count": null,
   "metadata": {},
   "outputs": [],
   "source": [
    "DST_GROOM_PATH = os.path.join(TF_PATH, 'Groom')\n",
    "\n",
    "DIR = os.chdir(DST_GROOM_PATH)\n",
    "\n",
    "print(os.getcwd())"
   ]
  },
  {
   "cell_type": "markdown",
   "metadata": {},
   "source": [
    "# 5. Import Image Labelling "
   ]
  },
  {
   "cell_type": "code",
   "execution_count": 6,
   "metadata": {},
   "outputs": [
    {
     "name": "stdout",
     "output_type": "stream",
     "text": [
      "Requirement already satisfied: pyqt5 in c:\\users\\jeremy\\desktop\\tensorflow\\weddingtfod\\bgtfod\\lib\\site-packages (5.15.4)\n",
      "Requirement already satisfied: lxml in c:\\users\\jeremy\\desktop\\tensorflow\\weddingtfod\\bgtfod\\lib\\site-packages (4.6.3)\n",
      "Requirement already satisfied: PyQt5-sip<13,>=12.8 in c:\\users\\jeremy\\desktop\\tensorflow\\weddingtfod\\bgtfod\\lib\\site-packages (from pyqt5) (12.9.0)\n",
      "Requirement already satisfied: PyQt5-Qt5>=5.15 in c:\\users\\jeremy\\desktop\\tensorflow\\weddingtfod\\bgtfod\\lib\\site-packages (from pyqt5) (5.15.2)\n"
     ]
    }
   ],
   "source": [
    "!pip install --upgrade pyqt5 lxml"
   ]
  },
  {
   "cell_type": "code",
   "execution_count": 7,
   "metadata": {},
   "outputs": [],
   "source": [
    "LABEL_IMG_PATH = os.path.join(FOLDER_PATH,'TF','labelImg')"
   ]
  },
  {
   "cell_type": "code",
   "execution_count": 8,
   "metadata": {},
   "outputs": [
    {
     "name": "stdout",
     "output_type": "stream",
     "text": [
      "Folder Created and Repo Copied...\n"
     ]
    },
    {
     "name": "stderr",
     "output_type": "stream",
     "text": [
      "Cloning into 'C:\\Users\\Jeremy\\Desktop\\TensorFlow\\WeddingTFOD\\TF\\labelImg'...\n"
     ]
    }
   ],
   "source": [
    "#Create a Folder For Image Labeling \n",
    "if not os.path.exists(LABEL_IMG_PATH):\n",
    "    !mkdir {LABEL_IMG_PATH}\n",
    "    !git clone https://github.com/tzutalin/labelImg {LABEL_IMG_PATH}\n",
    "    print(\"Folder Created and Repo Copied...\")\n",
    "else:\n",
    "    print(\"Folder Already Created and Repo Copied....\")"
   ]
  },
  {
   "cell_type": "code",
   "execution_count": 9,
   "metadata": {},
   "outputs": [],
   "source": [
    "if os.name == 'posix':\n",
    "    !cd {LABEL_IMG_PATH} && make qt5py3\n",
    "if os.name =='nt':\n",
    "    !cd {LABEL_IMG_PATH} && pyrcc5 -o libs/resources.py resources.qrc"
   ]
  },
  {
   "cell_type": "code",
   "execution_count": 11,
   "metadata": {},
   "outputs": [
    {
     "name": "stdout",
     "output_type": "stream",
     "text": [
      "Image:C:\\Users\\Jeremy\\Desktop\\TensorFlow\\WeddingTFOD\\TF\\workspace\\images\\collectedimages\\Groom\\Groom.11.jpg -> Annotation:C:/Users/Jeremy/Desktop/TensorFlow/WeddingTFOD/TF/workspace/images/collectedimages/Groom/Groom.11.xml\n",
      "Image:C:\\Users\\Jeremy\\Desktop\\TensorFlow\\WeddingTFOD\\TF\\workspace\\images\\collectedimages\\Groom\\Groom.12.jpg -> Annotation:C:/Users/Jeremy/Desktop/TensorFlow/WeddingTFOD/TF/workspace/images/collectedimages/Groom/Groom.12.xml\n",
      "Image:C:\\Users\\Jeremy\\Desktop\\TensorFlow\\WeddingTFOD\\TF\\workspace\\images\\collectedimages\\Groom\\Groom.13.jpg -> Annotation:C:/Users/Jeremy/Desktop/TensorFlow/WeddingTFOD/TF/workspace/images/collectedimages/Groom/Groom.13.xml\n",
      "Image:C:\\Users\\Jeremy\\Desktop\\TensorFlow\\WeddingTFOD\\TF\\workspace\\images\\collectedimages\\Groom\\Groom.14.jpg -> Annotation:C:/Users/Jeremy/Desktop/TensorFlow/WeddingTFOD/TF/workspace/images/collectedimages/Groom/Groom.14.xml\n",
      "Image:C:\\Users\\Jeremy\\Desktop\\TensorFlow\\WeddingTFOD\\TF\\workspace\\images\\collectedimages\\Groom\\Groom.15.jpg -> Annotation:C:/Users/Jeremy/Desktop/TensorFlow/WeddingTFOD/TF/workspace/images/collectedimages/Groom/Groom.15.xml\n",
      "Image:C:\\Users\\Jeremy\\Desktop\\TensorFlow\\WeddingTFOD\\TF\\workspace\\images\\collectedimages\\Groom\\Groom.16.jpg -> Annotation:C:/Users/Jeremy/Desktop/TensorFlow/WeddingTFOD/TF/workspace/images/collectedimages/Groom/Groom.16.xml\n",
      "Cancel creation.\n",
      "Image:C:\\Users\\Jeremy\\Desktop\\TensorFlow\\WeddingTFOD\\TF\\workspace\\images\\collectedimages\\Groom\\Groom.17.jpg -> Annotation:C:/Users/Jeremy/Desktop/TensorFlow/WeddingTFOD/TF/workspace/images/collectedimages/Groom/Groom.17.xml\n",
      "Image:C:\\Users\\Jeremy\\Desktop\\TensorFlow\\WeddingTFOD\\TF\\workspace\\images\\collectedimages\\Groom\\Groom.18.jpg -> Annotation:C:/Users/Jeremy/Desktop/TensorFlow/WeddingTFOD/TF/workspace/images/collectedimages/Groom/Groom.18.xml\n",
      "Image:C:\\Users\\Jeremy\\Desktop\\TensorFlow\\WeddingTFOD\\TF\\workspace\\images\\collectedimages\\Groom\\Groom.19.jpg -> Annotation:C:/Users/Jeremy/Desktop/TensorFlow/WeddingTFOD/TF/workspace/images/collectedimages/Groom/Groom.19.xml\n",
      "Image:C:\\Users\\Jeremy\\Desktop\\TensorFlow\\WeddingTFOD\\TF\\workspace\\images\\collectedimages\\Groom\\Groom.20.jpg -> Annotation:C:/Users/Jeremy/Desktop/TensorFlow/WeddingTFOD/TF/workspace/images/collectedimages/Groom/Groom.20.xml\n",
      "Image:C:\\Users\\Jeremy\\Desktop\\TensorFlow\\WeddingTFOD\\TF\\workspace\\images\\collectedimages\\Bride\\Bride.1.jpg -> Annotation:C:/Users/Jeremy/Desktop/TensorFlow/WeddingTFOD/TF/workspace/images/collectedimages/Bride/Bride.1.xml\n",
      "Cancel creation.\n",
      "Image:C:\\Users\\Jeremy\\Desktop\\TensorFlow\\WeddingTFOD\\TF\\workspace\\images\\collectedimages\\Bride\\Bride.2.jpg -> Annotation:C:/Users/Jeremy/Desktop/TensorFlow/WeddingTFOD/TF/workspace/images/collectedimages/Bride/Bride.2.xml\n",
      "Cancel creation.\n",
      "Image:C:\\Users\\Jeremy\\Desktop\\TensorFlow\\WeddingTFOD\\TF\\workspace\\images\\collectedimages\\Bride\\Bride.3.jpg -> Annotation:C:/Users/Jeremy/Desktop/TensorFlow/WeddingTFOD/TF/workspace/images/collectedimages/Bride/Bride.3.xml\n",
      "Image:C:\\Users\\Jeremy\\Desktop\\TensorFlow\\WeddingTFOD\\TF\\workspace\\images\\collectedimages\\Bride\\Bride.4.jpg -> Annotation:C:/Users/Jeremy/Desktop/TensorFlow/WeddingTFOD/TF/workspace/images/collectedimages/Bride/Bride.4.xml\n",
      "Image:C:\\Users\\Jeremy\\Desktop\\TensorFlow\\WeddingTFOD\\TF\\workspace\\images\\collectedimages\\Bride\\Bride.5.jpg -> Annotation:C:/Users/Jeremy/Desktop/TensorFlow/WeddingTFOD/TF/workspace/images/collectedimages/Bride/Bride.5.xml\n",
      "Image:C:\\Users\\Jeremy\\Desktop\\TensorFlow\\WeddingTFOD\\TF\\workspace\\images\\collectedimages\\Bride\\Bride.6.jpg -> Annotation:C:/Users/Jeremy/Desktop/TensorFlow/WeddingTFOD/TF/workspace/images/collectedimages/Bride/Bride.6.xml\n",
      "Image:C:\\Users\\Jeremy\\Desktop\\TensorFlow\\WeddingTFOD\\TF\\workspace\\images\\collectedimages\\Bride\\Bride.7.jpg -> Annotation:C:/Users/Jeremy/Desktop/TensorFlow/WeddingTFOD/TF/workspace/images/collectedimages/Bride/Bride.7.xml\n",
      "Image:C:\\Users\\Jeremy\\Desktop\\TensorFlow\\WeddingTFOD\\TF\\workspace\\images\\collectedimages\\Bride\\Bride.8.jpg -> Annotation:C:/Users/Jeremy/Desktop/TensorFlow/WeddingTFOD/TF/workspace/images/collectedimages/Bride/Bride.8.xml\n",
      "Image:C:\\Users\\Jeremy\\Desktop\\TensorFlow\\WeddingTFOD\\TF\\workspace\\images\\collectedimages\\Bride\\Bride.9.jpg -> Annotation:C:/Users/Jeremy/Desktop/TensorFlow/WeddingTFOD/TF/workspace/images/collectedimages/Bride/Bride.9.xml\n",
      "Image:C:\\Users\\Jeremy\\Desktop\\TensorFlow\\WeddingTFOD\\TF\\workspace\\images\\collectedimages\\Bride\\Bride.10.jpg -> Annotation:C:/Users/Jeremy/Desktop/TensorFlow/WeddingTFOD/TF/workspace/images/collectedimages/Bride/Bride.10.xml\n",
      "Image:C:\\Users\\Jeremy\\Desktop\\TensorFlow\\WeddingTFOD\\TF\\workspace\\images\\collectedimages\\Bride\\Bride.11.jpg -> Annotation:C:/Users/Jeremy/Desktop/TensorFlow/WeddingTFOD/TF/workspace/images/collectedimages/Bride/Bride.11.xml\n",
      "Cancel creation.\n",
      "Image:C:\\Users\\Jeremy\\Desktop\\TensorFlow\\WeddingTFOD\\TF\\workspace\\images\\collectedimages\\Bride\\Bride.12.jpg -> Annotation:C:/Users/Jeremy/Desktop/TensorFlow/WeddingTFOD/TF/workspace/images/collectedimages/Bride/Bride.12.xml\n",
      "Image:C:\\Users\\Jeremy\\Desktop\\TensorFlow\\WeddingTFOD\\TF\\workspace\\images\\collectedimages\\Bride\\Bride.13.jpg -> Annotation:C:/Users/Jeremy/Desktop/TensorFlow/WeddingTFOD/TF/workspace/images/collectedimages/Bride/Bride.13.xml\n",
      "Image:C:\\Users\\Jeremy\\Desktop\\TensorFlow\\WeddingTFOD\\TF\\workspace\\images\\collectedimages\\Bride\\Bride.14.jpg -> Annotation:C:/Users/Jeremy/Desktop/TensorFlow/WeddingTFOD/TF/workspace/images/collectedimages/Bride/Bride.14.xml\n",
      "Image:C:\\Users\\Jeremy\\Desktop\\TensorFlow\\WeddingTFOD\\TF\\workspace\\images\\collectedimages\\Bride\\Bride.15.jpg -> Annotation:C:/Users/Jeremy/Desktop/TensorFlow/WeddingTFOD/TF/workspace/images/collectedimages/Bride/Bride.15.xml\n",
      "Image:C:\\Users\\Jeremy\\Desktop\\TensorFlow\\WeddingTFOD\\TF\\workspace\\images\\collectedimages\\Bride\\Bride.16.jpg -> Annotation:C:/Users/Jeremy/Desktop/TensorFlow/WeddingTFOD/TF/workspace/images/collectedimages/Bride/Bride.16.xml\n",
      "Image:C:\\Users\\Jeremy\\Desktop\\TensorFlow\\WeddingTFOD\\TF\\workspace\\images\\collectedimages\\Bride\\Bride.17.jpg -> Annotation:C:/Users/Jeremy/Desktop/TensorFlow/WeddingTFOD/TF/workspace/images/collectedimages/Bride/Bride.17.xml\n",
      "Image:C:\\Users\\Jeremy\\Desktop\\TensorFlow\\WeddingTFOD\\TF\\workspace\\images\\collectedimages\\Bride\\Bride.18.jpg -> Annotation:C:/Users/Jeremy/Desktop/TensorFlow/WeddingTFOD/TF/workspace/images/collectedimages/Bride/Bride.18.xml\n",
      "Image:C:\\Users\\Jeremy\\Desktop\\TensorFlow\\WeddingTFOD\\TF\\workspace\\images\\collectedimages\\Bride\\Bride.19.jpg -> Annotation:C:/Users/Jeremy/Desktop/TensorFlow/WeddingTFOD/TF/workspace/images/collectedimages/Bride/Bride.19.xml\n",
      "Image:C:\\Users\\Jeremy\\Desktop\\TensorFlow\\WeddingTFOD\\TF\\workspace\\images\\collectedimages\\Bride\\Bride.20.jpg -> Annotation:C:/Users/Jeremy/Desktop/TensorFlow/WeddingTFOD/TF/workspace/images/collectedimages/Bride/Bride.20.xml\n"
     ]
    }
   ],
   "source": [
    "#Open Label Image Program\n",
    "!cd {LABEL_IMG_PATH} && python labelImg.py"
   ]
  },
  {
   "cell_type": "markdown",
   "metadata": {},
   "source": [
    "# 6. Splitting Images Into Ttraining & Testing"
   ]
  },
  {
   "cell_type": "code",
   "execution_count": null,
   "metadata": {},
   "outputs": [],
   "source": [
    "#Copy All Groom Images To Images Folder\n",
    "src = DST_GROOM_PATH\n",
    "dest = os.path.join(TF_PATH,'Groom')\n",
    "files = os.listdir(src)\n",
    "os.chdir(src)\n",
    "for file in files:\n",
    "    shutil.copy(file, dest)\n",
    "print(\"Files Copied To Destination Folder....\")"
   ]
  },
  {
   "cell_type": "code",
   "execution_count": null,
   "metadata": {},
   "outputs": [],
   "source": [
    "#Move All Bride Images To Images Folder\n",
    "src = DST_BRIDE_PATH\n",
    "dest = os.path.join(TF_PATH,'Bride')\n",
    "files = os.listdir(src)\n",
    "os.chdir(src)\n",
    "for file in files:\n",
    "    shutil.copy(file, dest)\n",
    "print(\"Files Copied To Destination Folder....\")"
   ]
  },
  {
   "cell_type": "code",
   "execution_count": null,
   "metadata": {},
   "outputs": [],
   "source": [
    "#Make a function to copy files to another folder\n",
    "def copy_file():\n",
    "    switch:"
   ]
  },
  {
   "cell_type": "code",
   "execution_count": null,
   "metadata": {},
   "outputs": [],
   "source": [
    "#Make a function to delete the empty folders in directory\n",
    "def delete_empty_folders():"
   ]
  },
  {
   "cell_type": "code",
   "execution_count": null,
   "metadata": {},
   "outputs": [],
   "source": [
    "#Training Ratio Split Into Train Folder\n",
    "TRAIN_RATIO = 0.7\n",
    "DIR = os.listdir(DST_BRIDE_PATH)\n",
    "LEN_BRIDE_DIR = len(DIR)\n",
    "randomList = []\n",
    "\n",
    "\n",
    "for x in range (LEN_BRIDE_DIR):\n",
    "    randomNum = rd.randrange(1,LEN_BRIDE_DIR)\n",
    "    randomList.append(randomNum)\n",
    "    while(randomNum in randomList):\n",
    "        randomNum = rd.randrange(1,LEN_BRIDE_DIR)\n",
    "    for file_name in DIR:\n",
    "        file = \"Bride.\"+randomNum+\".jpg\"\n",
    "        if file == file_name:\n",
    "            "
   ]
  }
 ],
 "metadata": {
  "kernelspec": {
   "display_name": "BGtfod",
   "language": "python",
   "name": "bgtfod"
  },
  "language_info": {
   "codemirror_mode": {
    "name": "ipython",
    "version": 3
   },
   "file_extension": ".py",
   "mimetype": "text/x-python",
   "name": "python",
   "nbconvert_exporter": "python",
   "pygments_lexer": "ipython3",
   "version": "3.7.3"
  }
 },
 "nbformat": 4,
 "nbformat_minor": 2
}
