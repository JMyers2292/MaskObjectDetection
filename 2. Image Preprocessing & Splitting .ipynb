{
 "cells": [
  {
   "cell_type": "markdown",
   "metadata": {},
   "source": [
    "# 1. Import Dependencies"
   ]
  },
  {
   "cell_type": "code",
   "execution_count": 1,
   "metadata": {},
   "outputs": [
    {
     "name": "stdout",
     "output_type": "stream",
     "text": [
      "Requirement already satisfied: opencv-python in d:\\jeremy\\desktop\\tensorflow\\customobjectdetection\\customtfod\\lib\\site-packages (4.5.2.54)\n",
      "Requirement already satisfied: numpy>=1.14.5 in d:\\jeremy\\desktop\\tensorflow\\customobjectdetection\\customtfod\\lib\\site-packages (from opencv-python) (1.19.5)\n"
     ]
    }
   ],
   "source": [
    "!pip install opencv-python"
   ]
  },
  {
   "cell_type": "code",
   "execution_count": 2,
   "metadata": {},
   "outputs": [],
   "source": [
    "# Import opencv\n",
    "import cv2\n",
    "\n",
    "# Import uuid\n",
    "import uuid\n",
    "\n",
    "# Import Operating System\n",
    "import os\n",
    "\n",
    "# Import time\n",
    "import time\n",
    "\n",
    "#Import Numpy\n",
    "import numpy as np\n",
    "\n",
    "import shutil\n",
    "\n",
    "import random as rd"
   ]
  },
  {
   "cell_type": "markdown",
   "metadata": {},
   "source": [
    "# 2. Define Images to Collect"
   ]
  },
  {
   "cell_type": "code",
   "execution_count": 3,
   "metadata": {},
   "outputs": [],
   "source": [
    "#Specify What You Want Labelled As Well As Empty Train & Test Folders For Later\n",
    "labels = ['Mask', 'NoMask']\n",
    "number_imgs = 5"
   ]
  },
  {
   "cell_type": "markdown",
   "metadata": {},
   "source": [
    "# 3. Setup Folders "
   ]
  },
  {
   "cell_type": "code",
   "execution_count": 4,
   "metadata": {},
   "outputs": [],
   "source": [
    "#PATHS\n",
    "FOLDER_PATH = os.getcwd()\n",
    "TF_PATH = os.path.join(FOLDER_PATH,'Tensorflow','workspace','images', 'collectedimages')\n",
    "IMG_PATH = os.path.join(FOLDER_PATH, 'Tensorflow','workspace','images')\n",
    "\n",
    "DOWNLOAD_IMG_PATH = os.path.join(FOLDER_PATH, 'Images')\n",
    "\n",
    "folders = [\"Train\", \"Test\"]"
   ]
  },
  {
   "cell_type": "code",
   "execution_count": null,
   "metadata": {},
   "outputs": [],
   "source": [
    "TF_PATH"
   ]
  },
  {
   "cell_type": "code",
   "execution_count": 5,
   "metadata": {},
   "outputs": [
    {
     "name": "stdout",
     "output_type": "stream",
     "text": [
      "Folder Already Created For Train....\n",
      "Folder Already Created For Test....\n",
      "Folder Already Created For Mask....\n",
      "Folder Already Created For NoMask....\n"
     ]
    }
   ],
   "source": [
    "#Create Folders for Each Label\n",
    "if not os.path.exists(TF_PATH):\n",
    "    if os.name == 'posix':\n",
    "        !mkdir -p {TF_PATH}\n",
    "    if os.name == 'nt':\n",
    "        !mkdir {TF_PATH}\n",
    "\n",
    "#Create Train & Test Folders\n",
    "os.chdir(IMG_PATH)\n",
    "for folder in folders:\n",
    "    path = os.path.join(IMG_PATH, folder)\n",
    "    if not os.path.exists(path):\n",
    "        !mkdir {path}\n",
    "        print(\"Folder Created For {}....\".format(folder))\n",
    "    else:\n",
    "        print(\"Folder Already Created For {}....\".format(folder))\n",
    "        \n",
    "#Create Folders For Custom Labels\n",
    "for label in labels:\n",
    "    path = os.path.join(TF_PATH, label)\n",
    "    if not os.path.exists(path):\n",
    "        !mkdir {path}\n",
    "        print(\"Folder Created For {}....\".format(label))\n",
    "    else:\n",
    "        print(\"Folder Already Created For {}....\".format(label))"
   ]
  },
  {
   "cell_type": "markdown",
   "metadata": {},
   "source": [
    "# 4. Capture Images On Camera (Optional)"
   ]
  },
  {
   "cell_type": "code",
   "execution_count": null,
   "metadata": {},
   "outputs": [],
   "source": [
    "save_Files_PATH = os.path.join(IMG_PATH,'collectedimages')\n",
    "\n",
    "for label in labels:\n",
    "    cap = cv2.VideoCapture(0)\n",
    "    print('Collecting images for {}'.format(label))\n",
    "    time.sleep(5)\n",
    "    for imgnum in range(number_imgs):\n",
    "        print('Collecting image {}'.format(imgnum))\n",
    "        ret, frame = cap.read()\n",
    "        imgname = os.path.join(save_Files_PATH,label,label+'.'+'{}.jpg'.format(str(uuid.uuid1())))\n",
    "        cv2.imwrite(imgname, frame)\n",
    "        cv2.imshow('frame', frame)\n",
    "        time.sleep(2)\n",
    "\n",
    "        if cv2.waitKey(1) == ord('q'):\n",
    "            break\n",
    "cap.release()\n",
    "cv2.destroyAllWindows()"
   ]
  },
  {
   "cell_type": "markdown",
   "metadata": {},
   "source": [
    "# 4. Copy Images From Other Folder"
   ]
  },
  {
   "cell_type": "code",
   "execution_count": null,
   "metadata": {},
   "outputs": [],
   "source": [
    "for label in labels:\n",
    "    src = os.path.join(DOWNLOAD_IMG_PATH, label)\n",
    "    dest = os.path.join(TF_PATH, label)\n",
    "    os.chdir(src)\n",
    "    files = os.listdir(src)\n",
    "    if len(os.listdir(dest))== 0:\n",
    "        for file in files:\n",
    "            shutil.copy(file, dest)\n",
    "        print(\"Files Copied To Destination Folder....\")\n",
    "    else:\n",
    "        print(\"Files Already Copied From {} Folder...\".format(label))"
   ]
  },
  {
   "cell_type": "markdown",
   "metadata": {},
   "source": [
    "# 5. Renaming Images"
   ]
  },
  {
   "cell_type": "code",
   "execution_count": null,
   "metadata": {},
   "outputs": [],
   "source": [
    "#Rename Images to <label>.num.jpg\n",
    "\n",
    "for label in labels:\n",
    "    DST_label_PATH = os.path.join(TF_PATH, label)\n",
    "    os.chdir(DST_label_PATH)\n",
    "    DIR = os.listdir(DST_label_PATH)\n",
    "    for count, file_name in enumerate(DIR):\n",
    "        src = DST_label_PATH + '\\\\' + file_name\n",
    "        dst = DST_label_PATH + '\\\\' + label + \"_\" + str(count+1) + \".jpg\"\n",
    "        os.rename(src, dst)\n",
    "print(\"Images Successfully Renamed...\")"
   ]
  },
  {
   "cell_type": "markdown",
   "metadata": {},
   "source": [
    "# 6. Import Image Labelling "
   ]
  },
  {
   "cell_type": "code",
   "execution_count": null,
   "metadata": {
    "scrolled": true
   },
   "outputs": [],
   "source": [
    "!pip install --upgrade pyqt5 lxml"
   ]
  },
  {
   "cell_type": "code",
   "execution_count": null,
   "metadata": {},
   "outputs": [],
   "source": [
    "LABEL_IMG_PATH = os.path.join(FOLDER_PATH,'Tensorflow','labelImg')"
   ]
  },
  {
   "cell_type": "code",
   "execution_count": null,
   "metadata": {},
   "outputs": [],
   "source": [
    "#Create a Folder For Image Labeling \n",
    "if not os.path.exists(LABEL_IMG_PATH):\n",
    "    !mkdir {LABEL_IMG_PATH}\n",
    "    !git clone https://github.com/tzutalin/labelImg {LABEL_IMG_PATH}\n",
    "    print(\"Folder Created and Repo Copied...\")\n",
    "else:\n",
    "    print(\"Folder Already Created and Repo Copied....\")"
   ]
  },
  {
   "cell_type": "code",
   "execution_count": null,
   "metadata": {},
   "outputs": [],
   "source": [
    "if os.name == 'posix':\n",
    "    !cd {LABEL_IMG_PATH} && make qt5py3\n",
    "if os.name =='nt':\n",
    "    !cd {LABEL_IMG_PATH} && pyrcc5 -o libs/resources.py resources.qrc"
   ]
  },
  {
   "cell_type": "code",
   "execution_count": null,
   "metadata": {},
   "outputs": [],
   "source": [
    "#Open Label Image Program\n",
    "!cd {LABEL_IMG_PATH} && python labelImg.py"
   ]
  },
  {
   "cell_type": "markdown",
   "metadata": {},
   "source": [
    "# 7. Splitting Images Into Ttraining & Testing"
   ]
  },
  {
   "cell_type": "code",
   "execution_count": 17,
   "metadata": {},
   "outputs": [],
   "source": [
    "#Make a function to move files to Train folder\n",
    "\n",
    "def move_file_Train(src_path):\n",
    "    dst = os.path.join(IMG_PATH, 'Train')\n",
    "    src = src_path\n",
    "    shutil.move(src, dst)\n",
    "    print(\"File moved to {}\".format(dst))"
   ]
  },
  {
   "cell_type": "code",
   "execution_count": 18,
   "metadata": {},
   "outputs": [],
   "source": [
    "#Make a function to move files to Test folder\n",
    "\n",
    "def move_file_Test(src_path):\n",
    "    dst = os.path.join(IMG_PATH, 'Test')\n",
    "    src = src_path\n",
    "    shutil.move(src, dst)\n",
    "    print(\"File moved to {}\".format(dst))"
   ]
  },
  {
   "cell_type": "code",
   "execution_count": 23,
   "metadata": {},
   "outputs": [],
   "source": [
    "def rand_num_gen(length_dir):\n",
    "    randomNum = rd.randrange(1, length_dir)\n",
    "    return randomNum"
   ]
  },
  {
   "cell_type": "code",
   "execution_count": null,
   "metadata": {},
   "outputs": [],
   "source": [
    "#Training Ratio Split Into Train Folder\n",
    "TRAIN_RATIO = 0.7\n",
    "randList = []\n",
    "for label in labels:\n",
    "    DST_label_PATH = os.path.join(TF_PATH, label)\n",
    "    os.chdir(DST_label_PATH)\n",
    "    DIR = os.listdir(DST_label_PATH)\n",
    "    NUM_IMG_SPLIT = len(DIR)*TRAIN_RATIO\n",
    "    print(\"Number of Images For Training: {}\".format(int(NUM_IMG_SPLIT)))\n",
    "    for x in range(int(NUM_IMG_SPLIT)):\n",
    "        randNum = rand_num_gen(len(DIR))\n",
    "        if len(randList) != int(NUM_IMG_SPLIT) and randNum not in randList:\n",
    "            randList.append(randNum)\n",
    "        else:\n",
    "            while (randNum in randList):\n",
    "                randNum = rand_num_gen(len(DIR))\n",
    "            if len(randList) != int(NUM_IMG_SPLIT) and randNum not in randList:\n",
    "                randList.append(randNum)\n",
    "        \n",
    "        IMG_SELECT = os.path.join(DST_label_PATH, label + \"_\" + str(randList[x]) + \".jpg\")\n",
    "        print(IMG_SELECT)\n",
    "        move_file_Train(IMG_SELECT)  \n"
   ]
  },
  {
   "cell_type": "code",
   "execution_count": 26,
   "metadata": {},
   "outputs": [
    {
     "name": "stdout",
     "output_type": "stream",
     "text": [
      "Number of Images For Training: 0\n",
      "Number of Images For Training: 0\n"
     ]
    }
   ],
   "source": [
    "#Training Ratio Split Into Test Folder\n",
    "\n",
    "for label in labels:\n",
    "    DST_label_PATH = os.path.join(TF_PATH, label)\n",
    "    os.chdir(DST_label_PATH)\n",
    "    DIR = os.listdir(DST_label_PATH)\n",
    "    NUM_IMG_SPLIT = len(DIR)\n",
    "    print(\"Number of Images For Training: {}\".format(int(NUM_IMG_SPLIT))) \n",
    "    for file_name in DIR:\n",
    "        file = os.path.join(DST_label_PATH, file_name)\n",
    "        move_file_Test(file)    "
   ]
  }
 ],
 "metadata": {
  "kernelspec": {
   "display_name": "customTFOD",
   "language": "python",
   "name": "customtfod"
  },
  "language_info": {
   "codemirror_mode": {
    "name": "ipython",
    "version": 3
   },
   "file_extension": ".py",
   "mimetype": "text/x-python",
   "name": "python",
   "nbconvert_exporter": "python",
   "pygments_lexer": "ipython3",
   "version": "3.7.3"
  }
 },
 "nbformat": 4,
 "nbformat_minor": 2
}
